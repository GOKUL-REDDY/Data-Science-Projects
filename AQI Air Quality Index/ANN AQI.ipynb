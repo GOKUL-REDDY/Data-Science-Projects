{
 "cells": [
  {
   "cell_type": "code",
   "execution_count": 2,
   "metadata": {},
   "outputs": [],
   "source": [
    "import numpy as np\n",
    "import pandas as pd\n",
    "import matplotlib.pyplot as plt\n",
    "import seaborn as sns\n",
    "%matplotlib inline"
   ]
  },
  {
   "cell_type": "code",
   "execution_count": 3,
   "metadata": {},
   "outputs": [],
   "source": [
    "df=pd.read_csv(\"Data/Real-Data/Real_Combine.csv\")\n",
    "df=df.dropna()"
   ]
  },
  {
   "cell_type": "code",
   "execution_count": 4,
   "metadata": {},
   "outputs": [],
   "source": [
    "#sns.heatmap(df.isnull())"
   ]
  },
  {
   "cell_type": "code",
   "execution_count": 5,
   "metadata": {},
   "outputs": [],
   "source": [
    "x=df.iloc[:,:-1] ## independent features\n",
    "y=df.iloc[:,-1]"
   ]
  },
  {
   "cell_type": "code",
   "execution_count": 6,
   "metadata": {},
   "outputs": [],
   "source": [
    "from sklearn.model_selection import train_test_split\n",
    "X_train, X_test, y_train, y_test = train_test_split(x, y,test_size=0.3, random_state=0)"
   ]
  },
  {
   "cell_type": "code",
   "execution_count": 7,
   "metadata": {},
   "outputs": [
    {
     "name": "stderr",
     "output_type": "stream",
     "text": [
      "Using TensorFlow backend.\n"
     ]
    }
   ],
   "source": [
    "import keras\n",
    "from keras.models import Sequential\n",
    "from keras.layers import Dense\n",
    "from keras.layers import LeakyReLU,PReLU,ELU\n",
    "from keras.layers import Dropout"
   ]
  },
  {
   "cell_type": "code",
   "execution_count": 8,
   "metadata": {},
   "outputs": [
    {
     "name": "stdout",
     "output_type": "stream",
     "text": [
      "Model: \"sequential_1\"\n",
      "_________________________________________________________________\n",
      "Layer (type)                 Output Shape              Param #   \n",
      "=================================================================\n",
      "dense_1 (Dense)              (None, 128)               1152      \n",
      "_________________________________________________________________\n",
      "dense_2 (Dense)              (None, 256)               33024     \n",
      "_________________________________________________________________\n",
      "dense_3 (Dense)              (None, 256)               65792     \n",
      "_________________________________________________________________\n",
      "dense_4 (Dense)              (None, 256)               65792     \n",
      "_________________________________________________________________\n",
      "dense_5 (Dense)              (None, 1)                 257       \n",
      "=================================================================\n",
      "Total params: 166,017\n",
      "Trainable params: 166,017\n",
      "Non-trainable params: 0\n",
      "_________________________________________________________________\n"
     ]
    }
   ],
   "source": [
    "NN_model = Sequential()\n",
    "\n",
    "# The Input Layer :\n",
    "NN_model.add(Dense(128, kernel_initializer='normal',input_dim = X_train.shape[1], activation='relu'))\n",
    "#kernal_initalizer is also called as weight_intilizer\n",
    "\n",
    "\n",
    "\n",
    "NN_model.add(Dense(256, kernel_initializer='normal',activation='relu'))\n",
    "NN_model.add(Dense(256, kernel_initializer='normal',activation='relu'))\n",
    "NN_model.add(Dense(256, kernel_initializer='normal',activation='relu'))\n",
    "#When we are using relu we should use 'Normal'\n",
    "\n",
    "\n",
    "# The Output Layer :\n",
    "NN_model.add(Dense(1, kernel_initializer='normal',activation='linear'))\n",
    "#HERE ITS LINEAR  \n",
    "#classif=softmax,sigmod\n",
    "# Compile the network :\n",
    "NN_model.compile(loss='mean_absolute_error', optimizer='adam', metrics=['mean_absolute_error'])\n",
    "NN_model.summary()"
   ]
  },
  {
   "cell_type": "code",
   "execution_count": 9,
   "metadata": {},
   "outputs": [
    {
     "name": "stderr",
     "output_type": "stream",
     "text": [
      "C:\\Users\\91901\\AppData\\Roaming\\Python\\Python37\\site-packages\\ipykernel_launcher.py:1: UserWarning: The `nb_epoch` argument in `fit` has been renamed `epochs`.\n",
      "  \"\"\"Entry point for launching an IPython kernel.\n"
     ]
    },
    {
     "name": "stdout",
     "output_type": "stream",
     "text": [
      "Train on 511 samples, validate on 253 samples\n",
      "Epoch 1/100\n",
      "511/511 [==============================] - 3s 5ms/step - loss: 68.1632 - mean_absolute_error: 68.1632 - val_loss: 65.7456 - val_mean_absolute_error: 65.7456\n",
      "Epoch 2/100\n",
      "511/511 [==============================] - 0s 397us/step - loss: 65.8112 - mean_absolute_error: 65.8112 - val_loss: 63.0794 - val_mean_absolute_error: 63.0794\n",
      "Epoch 3/100\n",
      "511/511 [==============================] - 0s 385us/step - loss: 64.4541 - mean_absolute_error: 64.4541 - val_loss: 58.0804 - val_mean_absolute_error: 58.0804\n",
      "Epoch 4/100\n",
      "511/511 [==============================] - 0s 425us/step - loss: 57.7268 - mean_absolute_error: 57.7267 - val_loss: 51.5366 - val_mean_absolute_error: 51.5366\n",
      "Epoch 5/100\n",
      "511/511 [==============================] - 0s 521us/step - loss: 53.5672 - mean_absolute_error: 53.5672 - val_loss: 47.2522 - val_mean_absolute_error: 47.2522\n",
      "Epoch 6/100\n",
      "511/511 [==============================] - 0s 511us/step - loss: 45.4469 - mean_absolute_error: 45.4469 - val_loss: 47.5659 - val_mean_absolute_error: 47.5659\n",
      "Epoch 7/100\n",
      "511/511 [==============================] - 0s 511us/step - loss: 46.5044 - mean_absolute_error: 46.5045 - val_loss: 45.8446 - val_mean_absolute_error: 45.8446\n",
      "Epoch 8/100\n",
      "511/511 [==============================] - 0s 476us/step - loss: 47.8151 - mean_absolute_error: 47.8151 - val_loss: 47.0137 - val_mean_absolute_error: 47.0137\n",
      "Epoch 9/100\n",
      "511/511 [==============================] - 0s 497us/step - loss: 48.2964 - mean_absolute_error: 48.2964 - val_loss: 45.1901 - val_mean_absolute_error: 45.1901\n",
      "Epoch 10/100\n",
      "511/511 [==============================] - 0s 534us/step - loss: 43.8082 - mean_absolute_error: 43.8082 - val_loss: 45.1659 - val_mean_absolute_error: 45.1659\n",
      "Epoch 11/100\n",
      "511/511 [==============================] - 0s 494us/step - loss: 46.3628 - mean_absolute_error: 46.3628 - val_loss: 48.3542 - val_mean_absolute_error: 48.3542\n",
      "Epoch 12/100\n",
      "511/511 [==============================] - 0s 496us/step - loss: 42.9393 - mean_absolute_error: 42.9393 - val_loss: 47.9233 - val_mean_absolute_error: 47.9233\n",
      "Epoch 13/100\n",
      "511/511 [==============================] - 0s 538us/step - loss: 44.0706 - mean_absolute_error: 44.0706 - val_loss: 44.7480 - val_mean_absolute_error: 44.7480\n",
      "Epoch 14/100\n",
      "511/511 [==============================] - 0s 483us/step - loss: 44.2921 - mean_absolute_error: 44.2921 - val_loss: 46.1490 - val_mean_absolute_error: 46.1490\n",
      "Epoch 15/100\n",
      "511/511 [==============================] - 0s 528us/step - loss: 43.7295 - mean_absolute_error: 43.7295 - val_loss: 44.6736 - val_mean_absolute_error: 44.6736\n",
      "Epoch 16/100\n",
      "511/511 [==============================] - 0s 487us/step - loss: 42.7612 - mean_absolute_error: 42.7612 - val_loss: 45.2333 - val_mean_absolute_error: 45.2333\n",
      "Epoch 17/100\n",
      "511/511 [==============================] - 0s 428us/step - loss: 43.1841 - mean_absolute_error: 43.1841 - val_loss: 55.3238 - val_mean_absolute_error: 55.3238\n",
      "Epoch 18/100\n",
      "511/511 [==============================] - 0s 493us/step - loss: 43.5318 - mean_absolute_error: 43.5318 - val_loss: 45.8092 - val_mean_absolute_error: 45.8092\n",
      "Epoch 19/100\n",
      "511/511 [==============================] - 0s 691us/step - loss: 43.3704 - mean_absolute_error: 43.3704 - val_loss: 48.3059 - val_mean_absolute_error: 48.3059\n",
      "Epoch 20/100\n",
      "511/511 [==============================] - 0s 652us/step - loss: 44.7753 - mean_absolute_error: 44.7753 - val_loss: 45.2367 - val_mean_absolute_error: 45.2367\n",
      "Epoch 21/100\n",
      "511/511 [==============================] - 0s 575us/step - loss: 41.2923 - mean_absolute_error: 41.2923 - val_loss: 53.0097 - val_mean_absolute_error: 53.0097\n",
      "Epoch 22/100\n",
      "511/511 [==============================] - 0s 470us/step - loss: 43.4179 - mean_absolute_error: 43.4179 - val_loss: 49.3126 - val_mean_absolute_error: 49.3126\n",
      "Epoch 23/100\n",
      "511/511 [==============================] - 0s 505us/step - loss: 42.8486 - mean_absolute_error: 42.8486 - val_loss: 45.0870 - val_mean_absolute_error: 45.0870\n",
      "Epoch 24/100\n",
      "511/511 [==============================] - 0s 503us/step - loss: 41.1320 - mean_absolute_error: 41.1320 - val_loss: 44.4963 - val_mean_absolute_error: 44.4963\n",
      "Epoch 25/100\n",
      "511/511 [==============================] - 0s 527us/step - loss: 41.5865 - mean_absolute_error: 41.5865 - val_loss: 48.8088 - val_mean_absolute_error: 48.8088\n",
      "Epoch 26/100\n",
      "511/511 [==============================] - 0s 503us/step - loss: 40.8279 - mean_absolute_error: 40.8279 - val_loss: 44.4059 - val_mean_absolute_error: 44.4059\n",
      "Epoch 27/100\n",
      "511/511 [==============================] - 0s 523us/step - loss: 41.7202 - mean_absolute_error: 41.7202 - val_loss: 43.9111 - val_mean_absolute_error: 43.9111\n",
      "Epoch 28/100\n",
      "511/511 [==============================] - 0s 449us/step - loss: 41.7436 - mean_absolute_error: 41.7436 - val_loss: 49.7585 - val_mean_absolute_error: 49.7585\n",
      "Epoch 29/100\n",
      "511/511 [==============================] - 0s 457us/step - loss: 42.6145 - mean_absolute_error: 42.6145 - val_loss: 47.3089 - val_mean_absolute_error: 47.3089\n",
      "Epoch 30/100\n",
      "511/511 [==============================] - 0s 460us/step - loss: 40.1812 - mean_absolute_error: 40.1812 - val_loss: 44.6746 - val_mean_absolute_error: 44.6746\n",
      "Epoch 31/100\n",
      "511/511 [==============================] - 0s 489us/step - loss: 40.9652 - mean_absolute_error: 40.9652 - val_loss: 44.0054 - val_mean_absolute_error: 44.0054\n",
      "Epoch 32/100\n",
      "511/511 [==============================] - 0s 507us/step - loss: 45.2081 - mean_absolute_error: 45.2081 - val_loss: 45.9801 - val_mean_absolute_error: 45.9801\n",
      "Epoch 33/100\n",
      "511/511 [==============================] - 0s 499us/step - loss: 42.4002 - mean_absolute_error: 42.4002 - val_loss: 44.2494 - val_mean_absolute_error: 44.2494\n",
      "Epoch 34/100\n",
      "511/511 [==============================] - 0s 476us/step - loss: 40.6771 - mean_absolute_error: 40.6771 - val_loss: 46.2885 - val_mean_absolute_error: 46.2885\n",
      "Epoch 35/100\n",
      "511/511 [==============================] - 0s 514us/step - loss: 41.2897 - mean_absolute_error: 41.2897 - val_loss: 43.9609 - val_mean_absolute_error: 43.9609\n",
      "Epoch 36/100\n",
      "511/511 [==============================] - 0s 467us/step - loss: 40.7161 - mean_absolute_error: 40.7161 - val_loss: 44.1820 - val_mean_absolute_error: 44.1820\n",
      "Epoch 37/100\n",
      "511/511 [==============================] - 0s 483us/step - loss: 41.3483 - mean_absolute_error: 41.3483 - val_loss: 43.6776 - val_mean_absolute_error: 43.6776\n",
      "Epoch 38/100\n",
      "511/511 [==============================] - 0s 478us/step - loss: 41.2202 - mean_absolute_error: 41.2202 - val_loss: 44.0117 - val_mean_absolute_error: 44.0117\n",
      "Epoch 39/100\n",
      "511/511 [==============================] - 0s 465us/step - loss: 39.4955 - mean_absolute_error: 39.4955 - val_loss: 43.6904 - val_mean_absolute_error: 43.6904\n",
      "Epoch 40/100\n",
      "511/511 [==============================] - 0s 467us/step - loss: 41.2566 - mean_absolute_error: 41.2566 - val_loss: 53.4726 - val_mean_absolute_error: 53.4726\n",
      "Epoch 41/100\n",
      "511/511 [==============================] - 0s 636us/step - loss: 41.2304 - mean_absolute_error: 41.2304 - val_loss: 43.5411 - val_mean_absolute_error: 43.5411\n",
      "Epoch 42/100\n",
      "511/511 [==============================] - 0s 628us/step - loss: 41.5999 - mean_absolute_error: 41.5999 - val_loss: 47.4164 - val_mean_absolute_error: 47.4164\n",
      "Epoch 43/100\n",
      "511/511 [==============================] - 0s 661us/step - loss: 42.2880 - mean_absolute_error: 42.2880 - val_loss: 45.1603 - val_mean_absolute_error: 45.1603\n",
      "Epoch 44/100\n",
      "511/511 [==============================] - 0s 493us/step - loss: 40.0725 - mean_absolute_error: 40.0725 - val_loss: 46.6227 - val_mean_absolute_error: 46.6227\n",
      "Epoch 45/100\n",
      "511/511 [==============================] - 0s 460us/step - loss: 41.5120 - mean_absolute_error: 41.5120 - val_loss: 46.4482 - val_mean_absolute_error: 46.4482\n",
      "Epoch 46/100\n",
      "511/511 [==============================] - 0s 482us/step - loss: 43.3335 - mean_absolute_error: 43.3335 - val_loss: 49.5745 - val_mean_absolute_error: 49.5745\n",
      "Epoch 47/100\n",
      "511/511 [==============================] - 0s 469us/step - loss: 39.9982 - mean_absolute_error: 39.9982 - val_loss: 50.7345 - val_mean_absolute_error: 50.7345\n",
      "Epoch 48/100\n"
     ]
    },
    {
     "name": "stdout",
     "output_type": "stream",
     "text": [
      "511/511 [==============================] - 0s 469us/step - loss: 41.5894 - mean_absolute_error: 41.5894 - val_loss: 43.8517 - val_mean_absolute_error: 43.8517\n",
      "Epoch 49/100\n",
      "511/511 [==============================] - 0s 425us/step - loss: 39.7282 - mean_absolute_error: 39.7282 - val_loss: 48.5290 - val_mean_absolute_error: 48.5290\n",
      "Epoch 50/100\n",
      "511/511 [==============================] - 0s 482us/step - loss: 43.5831 - mean_absolute_error: 43.5831 - val_loss: 46.7387 - val_mean_absolute_error: 46.7387\n",
      "Epoch 51/100\n",
      "511/511 [==============================] - 0s 497us/step - loss: 39.6125 - mean_absolute_error: 39.6125 - val_loss: 45.8446 - val_mean_absolute_error: 45.8446\n",
      "Epoch 52/100\n",
      "511/511 [==============================] - 0s 534us/step - loss: 39.9171 - mean_absolute_error: 39.9170 - val_loss: 48.1731 - val_mean_absolute_error: 48.1731\n",
      "Epoch 53/100\n",
      "511/511 [==============================] - 0s 520us/step - loss: 41.2355 - mean_absolute_error: 41.2355 - val_loss: 44.2627 - val_mean_absolute_error: 44.2627\n",
      "Epoch 54/100\n",
      "511/511 [==============================] - 0s 484us/step - loss: 39.8334 - mean_absolute_error: 39.8334 - val_loss: 43.6107 - val_mean_absolute_error: 43.6107\n",
      "Epoch 55/100\n",
      "511/511 [==============================] - 0s 569us/step - loss: 39.6472 - mean_absolute_error: 39.6472 - val_loss: 46.2386 - val_mean_absolute_error: 46.2386\n",
      "Epoch 56/100\n",
      "511/511 [==============================] - 0s 495us/step - loss: 40.1849 - mean_absolute_error: 40.1849 - val_loss: 48.5949 - val_mean_absolute_error: 48.5949\n",
      "Epoch 57/100\n",
      "511/511 [==============================] - 0s 520us/step - loss: 41.0160 - mean_absolute_error: 41.0160 - val_loss: 46.0286 - val_mean_absolute_error: 46.0286\n",
      "Epoch 58/100\n",
      "511/511 [==============================] - 0s 501us/step - loss: 40.3998 - mean_absolute_error: 40.3998 - val_loss: 46.7908 - val_mean_absolute_error: 46.7908\n",
      "Epoch 59/100\n",
      "511/511 [==============================] - 0s 527us/step - loss: 40.9253 - mean_absolute_error: 40.9254 - val_loss: 43.3686 - val_mean_absolute_error: 43.3686\n",
      "Epoch 60/100\n",
      "511/511 [==============================] - 0s 493us/step - loss: 39.9781 - mean_absolute_error: 39.9781 - val_loss: 44.4336 - val_mean_absolute_error: 44.4336\n",
      "Epoch 61/100\n",
      "511/511 [==============================] - 0s 518us/step - loss: 39.7386 - mean_absolute_error: 39.7386 - val_loss: 43.9582 - val_mean_absolute_error: 43.9582\n",
      "Epoch 62/100\n",
      "511/511 [==============================] - 0s 551us/step - loss: 39.6718 - mean_absolute_error: 39.6718 - val_loss: 44.0199 - val_mean_absolute_error: 44.0199\n",
      "Epoch 63/100\n",
      "511/511 [==============================] - 0s 604us/step - loss: 40.7300 - mean_absolute_error: 40.7300 - val_loss: 44.2438 - val_mean_absolute_error: 44.2438\n",
      "Epoch 64/100\n",
      "511/511 [==============================] - 0s 642us/step - loss: 41.6704 - mean_absolute_error: 41.6704 - val_loss: 48.2064 - val_mean_absolute_error: 48.2064\n",
      "Epoch 65/100\n",
      "511/511 [==============================] - 0s 606us/step - loss: 39.7161 - mean_absolute_error: 39.7161 - val_loss: 43.7939 - val_mean_absolute_error: 43.7939\n",
      "Epoch 66/100\n",
      "511/511 [==============================] - 0s 457us/step - loss: 43.1163 - mean_absolute_error: 43.1163 - val_loss: 43.7173 - val_mean_absolute_error: 43.7173\n",
      "Epoch 67/100\n",
      "511/511 [==============================] - 0s 492us/step - loss: 39.1956 - mean_absolute_error: 39.1956 - val_loss: 43.3148 - val_mean_absolute_error: 43.3148\n",
      "Epoch 68/100\n",
      "511/511 [==============================] - 0s 526us/step - loss: 39.3379 - mean_absolute_error: 39.3379 - val_loss: 43.3830 - val_mean_absolute_error: 43.3830\n",
      "Epoch 69/100\n",
      "511/511 [==============================] - 0s 518us/step - loss: 39.6408 - mean_absolute_error: 39.6408 - val_loss: 43.0512 - val_mean_absolute_error: 43.0512\n",
      "Epoch 70/100\n",
      "511/511 [==============================] - 0s 546us/step - loss: 39.2583 - mean_absolute_error: 39.2583 - val_loss: 43.2267 - val_mean_absolute_error: 43.2267\n",
      "Epoch 71/100\n",
      "511/511 [==============================] - 0s 551us/step - loss: 39.4501 - mean_absolute_error: 39.4501 - val_loss: 43.5724 - val_mean_absolute_error: 43.5724\n",
      "Epoch 72/100\n",
      "511/511 [==============================] - 0s 484us/step - loss: 38.7770 - mean_absolute_error: 38.7770 - val_loss: 45.1344 - val_mean_absolute_error: 45.1344\n",
      "Epoch 73/100\n",
      "511/511 [==============================] - 0s 467us/step - loss: 40.0524 - mean_absolute_error: 40.0524 - val_loss: 43.9360 - val_mean_absolute_error: 43.9360\n",
      "Epoch 74/100\n",
      "511/511 [==============================] - 0s 520us/step - loss: 43.7856 - mean_absolute_error: 43.7856 - val_loss: 43.7898 - val_mean_absolute_error: 43.7898\n",
      "Epoch 75/100\n",
      "511/511 [==============================] - 0s 512us/step - loss: 40.1102 - mean_absolute_error: 40.1102 - val_loss: 43.0835 - val_mean_absolute_error: 43.0835\n",
      "Epoch 76/100\n",
      "511/511 [==============================] - 0s 462us/step - loss: 40.7149 - mean_absolute_error: 40.7149 - val_loss: 43.8172 - val_mean_absolute_error: 43.8172\n",
      "Epoch 77/100\n",
      "511/511 [==============================] - 0s 513us/step - loss: 40.2494 - mean_absolute_error: 40.2494 - val_loss: 43.2284 - val_mean_absolute_error: 43.2284\n",
      "Epoch 78/100\n",
      "511/511 [==============================] - 0s 576us/step - loss: 39.8600 - mean_absolute_error: 39.8600 - val_loss: 43.0738 - val_mean_absolute_error: 43.0738\n",
      "Epoch 79/100\n",
      "511/511 [==============================] - 0s 491us/step - loss: 39.9198 - mean_absolute_error: 39.9198 - val_loss: 43.8720 - val_mean_absolute_error: 43.8720\n",
      "Epoch 80/100\n",
      "511/511 [==============================] - 0s 541us/step - loss: 39.0732 - mean_absolute_error: 39.0732 - val_loss: 44.8399 - val_mean_absolute_error: 44.8399\n",
      "Epoch 81/100\n",
      "511/511 [==============================] - 0s 465us/step - loss: 40.4288 - mean_absolute_error: 40.4288 - val_loss: 47.0905 - val_mean_absolute_error: 47.0905\n",
      "Epoch 82/100\n",
      "511/511 [==============================] - 0s 543us/step - loss: 40.7854 - mean_absolute_error: 40.7854 - val_loss: 42.7006 - val_mean_absolute_error: 42.7006\n",
      "Epoch 83/100\n",
      "511/511 [==============================] - 0s 521us/step - loss: 38.9540 - mean_absolute_error: 38.9540 - val_loss: 45.8462 - val_mean_absolute_error: 45.8462\n",
      "Epoch 84/100\n",
      "511/511 [==============================] - 0s 586us/step - loss: 41.8125 - mean_absolute_error: 41.8125 - val_loss: 43.7091 - val_mean_absolute_error: 43.7091\n",
      "Epoch 85/100\n",
      "511/511 [==============================] - 0s 694us/step - loss: 39.6831 - mean_absolute_error: 39.6831 - val_loss: 43.3768 - val_mean_absolute_error: 43.3768\n",
      "Epoch 86/100\n",
      "511/511 [==============================] - 0s 672us/step - loss: 42.2103 - mean_absolute_error: 42.2103 - val_loss: 48.5120 - val_mean_absolute_error: 48.5120\n",
      "Epoch 87/100\n",
      "511/511 [==============================] - 0s 563us/step - loss: 40.5629 - mean_absolute_error: 40.5629 - val_loss: 43.0094 - val_mean_absolute_error: 43.0094\n",
      "Epoch 88/100\n",
      "511/511 [==============================] - 0s 522us/step - loss: 39.1791 - mean_absolute_error: 39.1791 - val_loss: 46.5793 - val_mean_absolute_error: 46.5793\n",
      "Epoch 89/100\n",
      "511/511 [==============================] - 0s 492us/step - loss: 40.2797 - mean_absolute_error: 40.2797 - val_loss: 42.8436 - val_mean_absolute_error: 42.8436\n",
      "Epoch 90/100\n",
      "511/511 [==============================] - 0s 520us/step - loss: 38.3717 - mean_absolute_error: 38.3717 - val_loss: 43.0306 - val_mean_absolute_error: 43.0306\n",
      "Epoch 91/100\n",
      "511/511 [==============================] - 0s 574us/step - loss: 39.0034 - mean_absolute_error: 39.0034 - val_loss: 44.4592 - val_mean_absolute_error: 44.4592\n",
      "Epoch 92/100\n",
      "511/511 [==============================] - 0s 495us/step - loss: 41.0719 - mean_absolute_error: 41.0719 - val_loss: 44.5852 - val_mean_absolute_error: 44.5852\n",
      "Epoch 93/100\n",
      "511/511 [==============================] - 0s 506us/step - loss: 38.5455 - mean_absolute_error: 38.5455 - val_loss: 45.4149 - val_mean_absolute_error: 45.4149\n",
      "Epoch 94/100\n",
      "511/511 [==============================] - 0s 450us/step - loss: 38.8359 - mean_absolute_error: 38.8359 - val_loss: 43.0078 - val_mean_absolute_error: 43.0078\n",
      "Epoch 95/100\n",
      "511/511 [==============================] - 0s 452us/step - loss: 38.9363 - mean_absolute_error: 38.9363 - val_loss: 45.1777 - val_mean_absolute_error: 45.1777\n"
     ]
    },
    {
     "name": "stdout",
     "output_type": "stream",
     "text": [
      "Epoch 96/100\n",
      "511/511 [==============================] - 0s 494us/step - loss: 40.1053 - mean_absolute_error: 40.1053 - val_loss: 42.8788 - val_mean_absolute_error: 42.8788\n",
      "Epoch 97/100\n",
      "511/511 [==============================] - 0s 512us/step - loss: 38.8188 - mean_absolute_error: 38.8188 - val_loss: 46.5343 - val_mean_absolute_error: 46.5343\n",
      "Epoch 98/100\n",
      "511/511 [==============================] - 0s 536us/step - loss: 38.6523 - mean_absolute_error: 38.6523 - val_loss: 42.7505 - val_mean_absolute_error: 42.7505\n",
      "Epoch 99/100\n",
      "511/511 [==============================] - 0s 561us/step - loss: 39.9023 - mean_absolute_error: 39.9023 - val_loss: 42.5781 - val_mean_absolute_error: 42.5781\n",
      "Epoch 100/100\n",
      "511/511 [==============================] - 0s 484us/step - loss: 38.7768 - mean_absolute_error: 38.7768 - val_loss: 44.1875 - val_mean_absolute_error: 44.1875\n"
     ]
    }
   ],
   "source": [
    "model_history=NN_model.fit(X_train, y_train,validation_split=0.33, batch_size = 10, nb_epoch = 100)"
   ]
  },
  {
   "cell_type": "code",
   "execution_count": 10,
   "metadata": {},
   "outputs": [],
   "source": [
    "prediction=NN_model.predict(X_test)"
   ]
  },
  {
   "cell_type": "code",
   "execution_count": 11,
   "metadata": {},
   "outputs": [
    {
     "data": {
      "text/plain": [
       "<matplotlib.axes._subplots.AxesSubplot at 0x1e2f2a83c88>"
      ]
     },
     "execution_count": 11,
     "metadata": {},
     "output_type": "execute_result"
    },
    {
     "data": {
      "image/png": "[encoded data removed]",
      "text/plain": [
       "<Figure size 432x288 with 1 Axes>"
      ]
     },
     "metadata": {
      "needs_background": "light"
     },
     "output_type": "display_data"
    }
   ],
   "source": [
    "sns.distplot(y_test.values.reshape(-1,1)-prediction)"
   ]
  },
  {
   "cell_type": "code",
   "execution_count": 16,
   "metadata": {},
   "outputs": [
    {
     "name": "stdout",
     "output_type": "stream",
     "text": [
      "MAE: 42.62632310022184\n",
      "MSE: 4017.8313914857063\n",
      "RMSE: 63.38636597475601\n"
     ]
    }
   ],
   "source": [
    "from sklearn import metrics\n",
    "print('MAE:', metrics.mean_absolute_error(y_test, prediction))\n",
    "print('MSE:', metrics.mean_squared_error(y_test, prediction))\n",
    "print('RMSE:', np.sqrt(metrics.mean_squared_error(y_test, prediction)))"
   ]
  },
  {
   "cell_type": "code",
   "execution_count": 17,
   "metadata": {},
   "outputs": [
    {
     "name": "stdout",
     "output_type": "stream",
     "text": [
      "MAE: 42.62632310022184\n",
      "MSE: 4017.8313914857063\n",
      "RMSE: 63.38636597475601\n"
     ]
    }
   ],
   "source": [
    "print('MAE:', metrics.mean_absolute_error(y_test, prediction))\n",
    "print('MSE:', metrics.mean_squared_error(y_test, prediction))\n",
    "print('RMSE:', np.sqrt(metrics.mean_squared_error(y_test, prediction)))"
   ]
  },
  {
   "cell_type": "code",
   "execution_count": null,
   "metadata": {},
   "outputs": [],
   "source": [
    "\n"
   ]
  }
 ],
 "metadata": {
  "kernelspec": {
   "display_name": "Python 3",
   "language": "python",
   "name": "python3"
  },
  "language_info": {
   "codemirror_mode": {
    "name": "ipython",
    "version": 3
   },
   "file_extension": ".py",
   "mimetype": "text/x-python",
   "name": "python",
   "nbconvert_exporter": "python",
   "pygments_lexer": "ipython3",
   "version": "3.7.3"
  }
 },
 "nbformat": 4,
 "nbformat_minor": 4
}
